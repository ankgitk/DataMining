{
  "cells": [
    {
      "metadata": {
        "trusted": true,
        "scrolled": true
      },
      "cell_type": "code",
      "source": "import random\nimport math\n\ndef eucldist(p0,p1):\n    dist = 0.0\n    for i in range(0,len(p0)):\n        dist += (p0[i] - p1[i])**2\n    return math.sqrt(dist)\ndef kmeans(k,datapoints):\n\n    d = len(datapoints[0]) \n    Max_Iterations = 1000\n    i = 0\n    \n    cluster = [0] * len(datapoints)\n    prev_cluster = [-1] * len(datapoints)\n    \n    cluster_centers = []\n    for i in range(0,k):\n        new_cluster = []\n        cluster_centers += [random.choice(datapoints)]\n        force_recalculation = False\n    \n    while (cluster != prev_cluster) or (i > Max_Iterations) or (force_recalculation) :\n        \n        prev_cluster = list(cluster)\n        force_recalculation = False\n        i += 1\n    \n        #Update Point's Cluster Alligiance\n        for p in range(0,len(datapoints)):\n            min_dist = float(\"inf\")\n            \n            #Check min_distance against all centers\n            for c in range(0,len(cluster_centers)):\n                \n                dist = eucldist(datapoints[p],cluster_centers[c])\n                \n                if (dist < min_dist):\n                    min_dist = dist  \n                    cluster[p] = c   # Reassign Point to new Cluster\n        \n        \n        #Update Cluster's Position\n        for k in range(0,len(cluster_centers)):\n            new_center = [0] * d\n            members = 0\n            for p in range(0,len(datapoints)):\n                if (cluster[p] == k): #If this point belongs to the cluster\n                    for j in range(0,d):\n                        new_center[j] += datapoints[p][j]\n                    members += 1\n            \n            for j in range(0,d):\n                if members != 0:\n                    new_center[j] = new_center[j] / float(members) \n                \n                #This means that our initial random assignment was poorly chosen\n                #Change it to a new datapoint to actually force k clusters\n                else: \n                    new_center = random.choice(datapoints)\n                    force_recalculation = True\n                    #print(\"Forced Recalculation...\")\n                    \n            \n            cluster_centers[k] = new_center\n    \n        \n    print(\"======== Results ========\")\n    print(\"Clusters\", cluster_centers)\n    print(\"Iterations\",i)\n    print(\"Assignments\", cluster)\n    \n#TESTING THE PROGRAM#\nif __name__ == \"__main__\":\n    datapoints = [(3,2),(2,2),(1,2),(0,1),(1,0),(1,1),(5,6),(7,7),(9,10),(11,13),(12,12),(12,13),(13,13)]\n\n    k = 2\n    print(\"For k = 2\")\n    kmeans(k,datapoints) ",
      "execution_count": 4,
      "outputs": [
        {
          "output_type": "stream",
          "text": "For k = 2\n======== Results ========\nClusters [[10.666666666666666, 11.333333333333334], [1.8571428571428572, 2.0]]\nIterations 3\nAssignments [1, 1, 1, 1, 1, 1, 1, 0, 0, 0, 0, 0, 0]\n",
          "name": "stdout"
        }
      ]
    }
  ],
  "metadata": {
    "kernelspec": {
      "name": "python36",
      "display_name": "Python 3.6",
      "language": "python"
    },
    "language_info": {
      "mimetype": "text/x-python",
      "nbconvert_exporter": "python",
      "name": "python",
      "pygments_lexer": "ipython3",
      "version": "3.6.6",
      "file_extension": ".py",
      "codemirror_mode": {
        "version": 3,
        "name": "ipython"
      }
    }
  },
  "nbformat": 4,
  "nbformat_minor": 2
}