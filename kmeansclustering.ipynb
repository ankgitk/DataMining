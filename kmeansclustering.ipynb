{
  "cells": [
    {
      "metadata": {
        "trusted": true,
        "scrolled": true
      },
      "cell_type": "code",
      "source": "import random\nimport math\n\ndef eucldist(p0,p1):\n    dist = 0.0\n    for i in range(0,len(p0)):\n        dist += (p0[i] - p1[i])**2\n    return math.sqrt(dist)\n\n\n    \ndef kmeans(k,datapoints):\n\n    d = len(datapoints[0]) \n    \n    Max_Iterations = 1000\n    i = 0\n    \n    cluster = [0] * len(datapoints)\n    prev_cluster = [-1] * len(datapoints)\n    \n    cluster_centers = []\n    for i in range(0,k):\n        new_cluster = []\n        \n        cluster_centers += [random.choice(datapoints)]\n        \n        \n        \n        force_recalculation = False\n    \n    while (cluster != prev_cluster) or (i > Max_Iterations)  :\n        \n        print \"Iteration \",i\n        prev_cluster = list(cluster)\n        force_recalculation = False\n        i += 1\n    \n        for p in range(0,len(datapoints)):\n            min_dist = float(\"inf\")\n            \n            for c in range(0,len(cluster_centers)):\n                \n                dist = eucldist(datapoints[p],cluster_centers[c])\n                \n                if (dist < min_dist):\n                    min_dist = dist  \n                    cluster[p] = c   # \n        \n        \n        for k in range(0,len(cluster_centers)):\n            new_center = [0] * d\n            members = 0\n            for p in range(0,len(datapoints)):\n                if (cluster[p] == k): \n                    for j in range(0,d):\n                        new_center[j] += datapoints[p][j]\n                    members += 1\n            \n            for j in range(0,d):\n                if members != 0:\n                    new_center[j] = new_center[j] / float(members) \n                \n\n                else: \n                    \"\"\"\n                    new_center = random.choice(datapoints)\n                    force_recalculation = True\n                    \"\"\"\n            \n            cluster_centers[k] = new_center\n            print cluster_centers[k]\n    \n        \n    print \"================\"\n    print \"Final Cluster points \", cluster_centers\n    print \"Iterations\",i\n    print \"Assignments\", cluster\n    \n    \nif __name__ == \"__main__\":\n\n    #datapoints = [(3,2),(2,2),(1,2),(0,1),(1,0),(1,1),(5,6),(7,7),(9,10),(11,13),(12,12),(12,13),(13,13)]\n    dp = [(2,10),(3,12),(4,14),(5,16),(6,20),(7,22),(8,25),(10,28)]\n    k = 2\n      \n    kmeans(k,dp) ",
      "execution_count": 9,
      "outputs": [
        {
          "output_type": "stream",
          "text": "Iteration  1\n[10.0, 28.0]\n[5.0, 17.0]\nIteration  2\n[9.0, 26.5]\n[4.5, 15.666666666666666]\nIteration  3\n[8.333333333333334, 25.0]\n[4.0, 14.4]\nIteration  4\n[7.75, 23.75]\n[3.5, 13.0]\nIteration  5\n[7.75, 23.75]\n[3.5, 13.0]\n================\nFinal Cluster points  [[7.75, 23.75], [3.5, 13.0]]\nIterations 6\nAssignments [1, 1, 1, 1, 0, 0, 0, 0]\n",
          "name": "stdout"
        }
      ]
    }
  ],
  "metadata": {
    "kernelspec": {
      "name": "python2",
      "display_name": "Python 2",
      "language": "python"
    },
    "language_info": {
      "mimetype": "text/x-python",
      "nbconvert_exporter": "python",
      "name": "python",
      "pygments_lexer": "ipython2",
      "version": "2.7.15",
      "file_extension": ".py",
      "codemirror_mode": {
        "version": 2,
        "name": "ipython"
      }
    }
  },
  "nbformat": 4,
  "nbformat_minor": 2
}