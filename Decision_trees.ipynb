{
  "cells": [
    {
      "metadata": {
        "collapsed": true,
        "trusted": false
      },
      "cell_type": "code",
      "source": "",
      "execution_count": 1,
      "outputs": []
    },
    {
      "metadata": {
        "trusted": true
      },
      "cell_type": "code",
      "source": "my_data = [[ 'hot','high','false','no','sunny'],\n        ['hot','high','true','no','sunny'],\n        ['hot','high','false','yes','overcast'],\n        ['mild','high','false','yes','rainy'],\n        ['cool','normal','false','yes','rainy'],\n        ['cool','normal','true','no','rainy'],\n        ['cool','normal','true','yes','overcast'],\n        ['mild', 'high','false','no','sunny'],\n        ['cool','normal','false','yes','sunny'],\n        ['mild','normal','false','yes','rainy'],\n        ['mild','normal','true','yes','sunny'],\n        ['mild','high','true','yes','overcast'],\n        ['hot', 'normal','false','yes','overcast'],\n        ['mild', 'high','true','no','rainy']]\n",
      "execution_count": 137,
      "outputs": []
    },
    {
      "metadata": {
        "trusted": true
      },
      "cell_type": "code",
      "source": "class node:\n    def __init__(self,col=-1,value=None,results=None,tb=None,fb=None):\n        self.col=col \n        self.value=value \n        self.results=results \n        self.tb=tb # \n        self.fb=fb #",
      "execution_count": 122,
      "outputs": []
    },
    {
      "metadata": {
        "trusted": true
      },
      "cell_type": "code",
      "source": "\ndef divideset(rows,column,value):\n    \n    split_function=None\n    # \n    if isinstance(value,int) or isinstance(value,float):\n        split_function=lambda row:row[column]>=value\n    \n    else:\n        split_function=lambda row:row[column]==value\n   \n   # \n    set1=[row for row in rows if split_function(row)] \n    set2=[row for row in rows if not split_function(row)]\n    return (set1,set2)",
      "execution_count": 123,
      "outputs": []
    },
    {
      "metadata": {
        "trusted": true,
        "collapsed": true
      },
      "cell_type": "code",
      "source": "",
      "execution_count": 23,
      "outputs": [
        {
          "output_type": "execute_result",
          "execution_count": 23,
          "data": {
            "text/plain": "([['hot', 'high', 'false', 'no', 'sunny'],\n  ['hot', 'high', 'true', 'no', 'sunny'],\n  ['hot', 'high', 'false', 'yes', 'overcast'],\n  ['mild', 'high', 'false', 'yes', 'rainy'],\n  ['mild', 'high', 'false', 'no', 'sunny'],\n  ['mild', 'high', 'true', 'yes', 'overcast'],\n  ['mild', 'high', 'true', 'no', 'rainy']],\n [['cool', 'normal', 'false', 'yes', 'rainy'],\n  ['cool', 'normal', 'true', 'no', 'rainy'],\n  ['cool', 'normal', 'true', 'yes', 'overcast'],\n  ['cool', 'normal', 'false', 'yes', 'sunny'],\n  ['mild', 'normal', 'false', 'yes', 'rainy'],\n  ['mild', 'normal', 'true', 'yes', 'sunny'],\n  ['hot', 'normal', 'false', 'yes', 'overcast']])"
          },
          "metadata": {}
        }
      ]
    },
    {
      "metadata": {
        "trusted": true
      },
      "cell_type": "code",
      "source": "def uniquecounts(rows):\n    results={}\n    for row in rows:\n        \n        r=row[len(row)-1]\n        if r not in results: results[r]=0\n        results[r]+=1\n    return results",
      "execution_count": 125,
      "outputs": []
    },
    {
      "metadata": {
        "trusted": true
      },
      "cell_type": "code",
      "source": "from collections import defaultdict\ndef uniquecounts_dd(rows):\n    results = defaultdict(lambda: 0)\n    for row in rows:\n        r = row[len(row)-1]\n        results[r]+=1\n    return dict(results) ",
      "execution_count": 25,
      "outputs": []
    },
    {
      "metadata": {
        "trusted": true
      },
      "cell_type": "code",
      "source": "uniquecounts(my_data), uniquecounts_dd(my_data)",
      "execution_count": 126,
      "outputs": [
        {
          "output_type": "execute_result",
          "execution_count": 126,
          "data": {
            "text/plain": "({'overcast': 4, 'rainy': 5, 'sunny': 5},\n {'overcast': 4, 'rainy': 5, 'sunny': 5})"
          },
          "metadata": {}
        }
      ]
    },
    {
      "metadata": {
        "trusted": true
      },
      "cell_type": "code",
      "source": "def entropy(rows):\n    from math import log\n    log2=lambda x:log(x)/log(2)  \n    results=uniquecounts(rows)\n    ent=0.0\n    for r in results.keys():\n        p=float(results[r])/len(rows) \n        ent=ent-p*log2(p)\n    \n    return ent",
      "execution_count": 127,
      "outputs": []
    },
    {
      "metadata": {
        "trusted": true
      },
      "cell_type": "code",
      "source": "entropy(my_data)",
      "execution_count": 128,
      "outputs": [
        {
          "output_type": "execute_result",
          "execution_count": 128,
          "data": {
            "text/plain": "1.5774062828523452"
          },
          "metadata": {}
        }
      ]
    },
    {
      "metadata": {
        "trusted": true
      },
      "cell_type": "code",
      "source": "entropy([my_data[i][0:1] for i in range(0,14)])",
      "execution_count": 129,
      "outputs": [
        {
          "output_type": "execute_result",
          "execution_count": 129,
          "data": {
            "text/plain": "1.5566567074628228"
          },
          "metadata": {}
        }
      ]
    },
    {
      "metadata": {
        "trusted": true
      },
      "cell_type": "code",
      "source": "entropy([my_data[i][1:2] for i in range(0,14)])",
      "execution_count": 130,
      "outputs": [
        {
          "output_type": "execute_result",
          "execution_count": 130,
          "data": {
            "text/plain": "1.0"
          },
          "metadata": {}
        }
      ]
    },
    {
      "metadata": {
        "trusted": true
      },
      "cell_type": "code",
      "source": "entropy([my_data[i][2:3] for i in range(0,14)])",
      "execution_count": 131,
      "outputs": [
        {
          "output_type": "execute_result",
          "execution_count": 131,
          "data": {
            "text/plain": "0.9852281360342516"
          },
          "metadata": {}
        }
      ]
    },
    {
      "metadata": {
        "trusted": true
      },
      "cell_type": "code",
      "source": "entropy([my_data[i][3:4] for i in range(0,14)])",
      "execution_count": 132,
      "outputs": [
        {
          "output_type": "execute_result",
          "execution_count": 132,
          "data": {
            "text/plain": "0.9402859586706309"
          },
          "metadata": {}
        }
      ]
    },
    {
      "metadata": {
        "trusted": true
      },
      "cell_type": "code",
      "source": "def tree(rows, scorefun=entropy):\n    if len(rows) == 0: return node()\n    current_score = scorefun(rows)\n\n    best_gain = 0.0\n    best_criteria = None\n    best_sets = None\n\n    column_count = len(rows[0]) - 1\t\n    for col in range(0, column_count):\n        column_values = set([row[col] for row in rows])\n\n        for value in column_values:\n            set1, set2 = divideset(rows, col, value)\n\n            p = float(len(set1)) / len(rows)\n            gain = current_score - p*scorefun(set1) - (1-p)*scorefun(set2)\n            if gain > best_gain and len(set1) > 0 and len(set2) > 0:\n                best_gain = gain\n                best_criteria = (col, value)\n                best_sets = (set1, set2)\n\n    if best_gain > 0:\n        trueBranch = tree(best_sets[0])\n        falseBranch = tree(best_sets[1])\n        return node(col=best_criteria[0], value=best_criteria[1],\n                tb=trueBranch, fb=falseBranch)\n    else:\n        return node(results=uniquecounts(rows))",
      "execution_count": 133,
      "outputs": []
    },
    {
      "metadata": {
        "trusted": true
      },
      "cell_type": "code",
      "source": "def tree_print(tree,indent='    '):\n    #  leaf\n    if tree.results!=None:\n        print str(tree.results)\n    else:\n        print 'Column ' + str(tree.col)+' : '+str(tree.value)+' '\n\n        # ranches\n        print indent+'True->',\n        tree_print(tree.tb,indent+'  ')\n        print indent+'False->',\n        tree_print(tree.fb,indent+'  ')",
      "execution_count": 138,
      "outputs": []
    },
    {
      "metadata": {
        "trusted": true
      },
      "cell_type": "code",
      "source": "my_data[0:5]",
      "execution_count": 140,
      "outputs": [
        {
          "output_type": "execute_result",
          "execution_count": 140,
          "data": {
            "text/plain": "[['hot', 'high', 'false', 'no', 'sunny'],\n ['hot', 'high', 'true', 'no', 'sunny'],\n ['hot', 'high', 'false', 'yes', 'overcast'],\n ['mild', 'high', 'false', 'yes', 'rainy'],\n ['cool', 'normal', 'false', 'yes', 'rainy']]"
          },
          "metadata": {}
        }
      ]
    },
    {
      "metadata": {
        "trusted": true
      },
      "cell_type": "code",
      "source": "tree_print(tree(my_data))",
      "execution_count": 139,
      "outputs": [
        {
          "output_type": "stream",
          "text": "Column 3 : no \n    True-> Column 0 : hot \n      True-> {'sunny': 2}\n      False-> Column 2 : false \n        True-> {'sunny': 1}\n        False-> {'rainy': 2}\n    False-> Column 0 : hot \n      True-> {'overcast': 2}\n      False-> Column 2 : true \n        True-> Column 0 : mild \n          True-> Column 1 : high \n            True-> {'overcast': 1}\n            False-> {'sunny': 1}\n          False-> {'overcast': 1}\n        False-> Column 0 : mild \n          True-> {'rainy': 2}\n          False-> {'rainy': 1, 'sunny': 1}\n",
          "name": "stdout"
        }
      ]
    }
  ],
  "metadata": {
    "kernelspec": {
      "name": "python2",
      "display_name": "Python 2",
      "language": "python"
    },
    "language_info": {
      "mimetype": "text/x-python",
      "nbconvert_exporter": "python",
      "name": "python",
      "pygments_lexer": "ipython2",
      "version": "2.7.15",
      "file_extension": ".py",
      "codemirror_mode": {
        "version": 2,
        "name": "ipython"
      }
    }
  },
  "nbformat": 4,
  "nbformat_minor": 1
}